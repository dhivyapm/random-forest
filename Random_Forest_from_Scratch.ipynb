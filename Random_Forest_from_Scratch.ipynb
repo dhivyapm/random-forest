{
  "nbformat": 4,
  "nbformat_minor": 0,
  "metadata": {
    "colab": {
      "name": "Random-Forest-from-Scratch.ipynb",
      "provenance": [],
      "collapsed_sections": [],
      "mount_file_id": "https://github.com/dhivyapm/divya/blob/master/Random_Forest_from_Scratch.ipynb",
      "authorship_tag": "ABX9TyOVBRnPZ/m5NQsCe53slmbJ",
      "include_colab_link": true
    },
    "kernelspec": {
      "name": "python3",
      "display_name": "Python 3"
    }
  },
  "cells": [
    {
      "cell_type": "markdown",
      "metadata": {
        "id": "view-in-github",
        "colab_type": "text"
      },
      "source": [
        "<a href=\"https://colab.research.google.com/github/dhivyapm/random-forest/blob/master/Random_Forest_from_Scratch.ipynb\" target=\"_parent\"><img src=\"https://colab.research.google.com/assets/colab-badge.svg\" alt=\"Open In Colab\"/></a>"
      ]
    },
    {
      "cell_type": "code",
      "metadata": {
        "id": "A23OCjGS5vKK",
        "colab_type": "code",
        "colab": {}
      },
      "source": [
        "import pandas as pd # to read the dataset and convert the dataset to DataFrame which is in table format\n",
        "import numpy as np # numpy is for computing, here I'm using this package for randomly select the rows from the dataset\n",
        "import random # to randomly select the datapoints from dataset\n",
        "df = pd.read_csv('/content/drive/My Drive/satelite.csv')\n",
        "from random import randrange"
      ],
      "execution_count": 2,
      "outputs": []
    },
    {
      "cell_type": "code",
      "metadata": {
        "id": "bsOfEnqQ6bq2",
        "colab_type": "code",
        "colab": {}
      },
      "source": [
        "df1 = df.copy()\n",
        "df1 = df.drop('Column37',axis=1)\n",
        "features =['Column17','Column18','Column19','Column20']\n",
        "df = df.sample(frac=1)# shuffle the dataset"
      ],
      "execution_count": 3,
      "outputs": []
    },
    {
      "cell_type": "code",
      "metadata": {
        "id": "W5R1PnuH6fuC",
        "colab_type": "code",
        "colab": {}
      },
      "source": [
        "train_size = int(np.floor(0.80 * len(df))) #train_size =5791\n",
        "X_train = df[features][:train_size] # X_train takes the values of the columns from 1 to 36 from the dataset upto the train_size rows(5791 rows)\n",
        "y_train = df['Column37'][:train_size].values #y_train takes the last column values which is label upto the train_size(5791 rows)\n",
        "X_test = df[features][train_size:] # X_test takes the values of the columns from 1 to 36 starting from rows 5791 upto the dataset length which is 6435\n",
        "y_test = df['Column37'][train_size:].values # y_test takes the last column values which is label starting from rows 5791 upto the dataset length which is 6435\n"
      ],
      "execution_count": 4,
      "outputs": []
    },
    {
      "cell_type": "code",
      "metadata": {
        "id": "EeY1JeWR7qFP",
        "colab_type": "code",
        "colab": {}
      },
      "source": [
        "#calculating the bootstrap that is taking sample from train set and left out samples in dataset will be taken as out-of-bag which is used to test the model performance\n",
        "def n_bootstrap(X_train, y_train):\n",
        "  bootstrap_indices = list(np.random.choice(range(len(X_train)), len(X_train), replace = True)) #it as the index of the sample selected from the training set\n",
        "  oob_indices = [i for i in range(len(X_train)) if i not in bootstrap_indices] # it as the index of the left over samples in the training set\n",
        "  X_bootstrap = X_train.iloc[bootstrap_indices].values # here it takes the values of the specific index from the training\n",
        "  y_bootstrap = y_train[bootstrap_indices] # it takes the array elements of the specific indices(labels)\n",
        "  X_oob = X_train.iloc[oob_indices].values # it takes the values of the left over samples in the training set\n",
        "  y_oob = y_train[oob_indices] # it takes the array elements from the left over samples in the training set(labels)\n",
        "    #q.put([X_bootstrap,y_bootstrap,X_oob,y_oob])\n",
        "  return X_bootstrap, y_bootstrap, X_oob, y_oob # returns all the values of bootstrap and oob"
      ],
      "execution_count": 5,
      "outputs": []
    },
    {
      "cell_type": "code",
      "metadata": {
        "id": "LKJSDceh6lN_",
        "colab_type": "code",
        "colab": {}
      },
      "source": [
        "# calculate the Entropy(measure of disorder)\n",
        "#To which group does this sample belongs to\n",
        "#Entropy controls how a Decision Tree decides to split the data.\n",
        "#where entropy takes in a probability of a class within a node \n",
        "def entropy(p):\n",
        "    if p == 0:\n",
        "        return 0\n",
        "    elif p == 1:\n",
        "        return 0\n",
        "    else:\n",
        "        return - (p * np.log2(p) + (1 - p) * np.log2(1-p))\n",
        "         # these formula provided in these https://medium.com/coinmonks/what-is-entropy-and-why-information-gain-is-matter-4e85d46d2f01\n",
        "         # in that they clearly explained the concept of entropy and Information-Gain"
      ],
      "execution_count": 6,
      "outputs": []
    },
    {
      "cell_type": "code",
      "metadata": {
        "id": "qcThi1qA6sAs",
        "colab_type": "code",
        "colab": {}
      },
      "source": [
        "#calculate the information gain to compare the entropy before and after split\n",
        "#Information_gain takes in a list of the classes from the left and right child and returns the information gain of that particular split.\n",
        "def information_gain(left_child, right_child):\n",
        "    parent = left_child + right_child\n",
        "    p_parent = parent.count(1) / len(parent) if len(parent) > 0 else 0\n",
        "    p_left = left_child.count(1) / len(left_child) if len(left_child) > 0 else 0\n",
        "    p_right = right_child.count(1) / len(right_child) if len(right_child) > 0 else 0\n",
        "    IG_p = entropy(p_parent)\n",
        "   \n",
        "    IG_l = entropy(p_left)\n",
        "\n",
        "    IG_r = entropy(p_right)\n",
        "\n",
        "    IG = IG_p - len(left_child) / len(parent) * IG_l - len(right_child) / len(parent) * IG_r\n",
        "    \n",
        "    return IG#return the information gain of parent and childs"
      ],
      "execution_count": 7,
      "outputs": []
    },
    {
      "cell_type": "code",
      "metadata": {
        "id": "nxB_ALvWyJgx",
        "colab_type": "code",
        "colab": {}
      },
      "source": [
        "def find_split_point(X_bootstrap, y_bootstrap, max_features):\n",
        "    feature_ls = list()\n",
        "    num_features = len(X_bootstrap[0])\n",
        "    \n",
        "    while len(feature_ls) <= max_features:\n",
        "        feature_idx = random.sample(range(num_features), 1)\n",
        "        if feature_idx not in feature_ls:\n",
        "            feature_ls.extend(feature_idx)\n",
        "    \n",
        "    best_info_gain = -999\n",
        "    node = None\n",
        "    for feature_idx in feature_ls:\n",
        "        for split_point in X_bootstrap[:,feature_idx]:\n",
        "            left_child = {'X_bootstrap': [], 'y_bootstrap': []}\n",
        "            right_child = {'X_bootstrap': [], 'y_bootstrap': []}\n",
        "            \n",
        "            # split children for continuous variables\n",
        "            if type(split_point) in [int, float]:\n",
        "                for i, value in enumerate(X_bootstrap[:,feature_idx]):\n",
        "                    if value <= split_point:\n",
        "                        left_child['X_bootstrap'].append(X_bootstrap[i])\n",
        "                        left_child['y_bootstrap'].append(y_bootstrap[i])\n",
        "                    else:\n",
        "                        right_child['X_bootstrap'].append(X_bootstrap[i])\n",
        "                        right_child['y_bootstrap'].append(y_bootstrap[i])\n",
        "            # split children for categoric variables\n",
        "            else:\n",
        "                for i, value in enumerate(X_bootstrap[:,feature_idx]):\n",
        "                    if value == split_point:\n",
        "                        left_child['X_bootstrap'].append(X_bootstrap[i])\n",
        "                        left_child['y_bootstrap'].append(y_bootstrap[i])\n",
        "                    else:\n",
        "                        right_child['X_bootstrap'].append(X_bootstrap[i])\n",
        "                        right_child['y_bootstrap'].append(y_bootstrap[i])\n",
        "            \n",
        "            split_info_gain = information_gain(left_child['y_bootstrap'], right_child['y_bootstrap'])\n",
        "            if split_info_gain > best_info_gain:\n",
        "                best_info_gain = split_info_gain\n",
        "                left_child['X_bootstrap'] = np.array(left_child['X_bootstrap'])\n",
        "                right_child['X_bootstrap'] = np.array(right_child['X_bootstrap'])\n",
        "                node = {'information_gain': split_info_gain, \n",
        "                        'left_child': left_child, \n",
        "                        'right_child': right_child, \n",
        "                        'split_point': split_point,\n",
        "                        'feature_idx': feature_idx}\n",
        "                \n",
        "    \n",
        "    return node"
      ],
      "execution_count": 8,
      "outputs": []
    },
    {
      "cell_type": "code",
      "metadata": {
        "id": "M2G6MExQiwy0",
        "colab_type": "code",
        "colab": {}
      },
      "source": [
        "#function to build the tree with the boostrap values\n",
        "def build_tree(X_bootstrap, y_bootstrap, max_depth, min_samples_split, max_features):\n",
        "    root_node = find_split_point(X_bootstrap, y_bootstrap, max_features) #creates the node with parent,right and left-child node\n",
        "# Once we have a root node we will use the split_node() which will recusively split each internal node until each branch reached terminal node\n",
        "    split_node(root_node, max_features, min_samples_split, max_depth, 1) \n",
        "    return root_node"
      ],
      "execution_count": 9,
      "outputs": []
    },
    {
      "cell_type": "code",
      "metadata": {
        "id": "VnEAPuTHwY-v",
        "colab_type": "code",
        "colab": {}
      },
      "source": [
        "def split_node(node, max_features, min_samples_split, max_depth, depth):\n",
        "    left_child = node['left_child']\n",
        "    right_child = node['right_child']    \n",
        "\n",
        "    del(node['left_child'])\n",
        "    del(node['right_child'])\n",
        "    \n",
        "    if len(left_child['y_bootstrap']) == 0 or len(right_child['y_bootstrap']) == 0:\n",
        "        empty_child = {'y_bootstrap': left_child['y_bootstrap'] + right_child['y_bootstrap']}\n",
        "        node['left_split'] = terminal_node(empty_child)\n",
        "        node['right_split'] = terminal_node(empty_child)\n",
        "        return\n",
        "    \n",
        "    if depth >= max_depth:\n",
        "        node['left_split'] = terminal_node(left_child)\n",
        "        node['right_split'] = terminal_node(right_child)\n",
        "        return node\n",
        "    \n",
        "    if len(left_child['X_bootstrap']) <= min_samples_split:\n",
        "        node['left_split'] = node['right_split'] = terminal_node(left_child)\n",
        "    else:\n",
        "        node['left_split'] = find_split_point(left_child['X_bootstrap'], left_child['y_bootstrap'], max_features)\n",
        "        split_node(node['left_split'], max_depth, min_samples_split, max_depth, depth + 1)\n",
        "    if len(right_child['X_bootstrap']) <= min_samples_split:\n",
        "        node['right_split'] = node['left_split'] = terminal_node(right_child)\n",
        "    else:\n",
        "        node['right_split'] = find_split_point(right_child['X_bootstrap'], right_child['y_bootstrap'], max_features)\n",
        "        split_node(node['right_split'], max_features, min_samples_split, max_depth, depth + 1)"
      ],
      "execution_count": 10,
      "outputs": []
    },
    {
      "cell_type": "code",
      "metadata": {
        "id": "4CXy4rX4oz_-",
        "colab_type": "code",
        "colab": {}
      },
      "source": [
        "#function for deciding the terminal-node (leaf-node)\n",
        "def terminal_node(node):\n",
        "    y_bootstrap = node['y_bootstrap']\n",
        "    pred = max(y_bootstrap, key = y_bootstrap.count)\n",
        "    return pred"
      ],
      "execution_count": 11,
      "outputs": []
    },
    {
      "cell_type": "code",
      "metadata": {
        "id": "hZAvJe5ssA_j",
        "colab_type": "code",
        "colab": {}
      },
      "source": [
        "def oob_score(tree, X_test, y_test):\n",
        "    mis_label = 0\n",
        "    for i in range(len(X_test)):\n",
        "        pred = predict_tree(tree, X_test[i])\n",
        "        if pred != y_test[i]:\n",
        "            mis_label += 1\n",
        "    return mis_label / len(X_test)"
      ],
      "execution_count": 12,
      "outputs": []
    },
    {
      "cell_type": "code",
      "metadata": {
        "id": "nXAljMJ3JeDV",
        "colab_type": "code",
        "colab": {}
      },
      "source": [
        "def predict_tree(tree, X_test):\n",
        "    feature_idx = tree['feature_idx']\n",
        "    \n",
        "    if X_test[feature_idx] <= tree['split_point']:\n",
        "        if type(tree['left_split']) == dict:\n",
        "            return predict_tree(tree['left_split'], X_test)\n",
        "        else:\n",
        "            value = tree['left_split']\n",
        "            return value\n",
        "    else:\n",
        "        if type(tree['right_split']) == dict:\n",
        "            return predict_tree(tree['right_split'], X_test)\n",
        "        else:\n",
        "            return tree['right_split']"
      ],
      "execution_count": 13,
      "outputs": []
    },
    {
      "cell_type": "code",
      "metadata": {
        "id": "X65x-5VHszyc",
        "colab_type": "code",
        "colab": {}
      },
      "source": [
        "def random_forest(X_train, y_train, X_test, n_estimators, max_features, max_depth, min_samples_split):\n",
        "  tree_ls = list()\n",
        "  oob_ls = list()\n",
        "  for i in range(n_estimators):\n",
        "    X_bootstrap, y_bootstrap, X_oob, y_oob = n_bootstrap(X_train, y_train)\n",
        "    tree = build_tree(X_bootstrap, y_bootstrap, max_features, max_depth, min_samples_split)\n",
        "    tree_ls.append(tree)\n",
        "    oob_error = oob_score(tree, X_oob, y_oob)\n",
        "    oob_ls.append(oob_error)\n",
        "  print(\"OOB estimate: {:.2f}\".format(np.mean(oob_ls)))\n",
        "  predictions = predict_rf(tree_ls, X_test)\n",
        "  return predictions"
      ],
      "execution_count": 21,
      "outputs": []
    },
    {
      "cell_type": "code",
      "metadata": {
        "colab_type": "code",
        "id": "oreFDR4I59e3",
        "colab": {}
      },
      "source": [
        "def predict_rf(tree_ls, X_test):\n",
        "    pred_ls = list()\n",
        "    for i in range(len(X_test)):\n",
        "        ensemble_preds = [predict_tree(tree, X_test.values[i]) for tree in tree_ls]\n",
        "        final_pred = max(ensemble_preds, key = ensemble_preds.count)\n",
        "        pred_ls.append(final_pred)\n",
        "    return np.array(pred_ls)"
      ],
      "execution_count": 16,
      "outputs": []
    },
    {
      "cell_type": "code",
      "metadata": {
        "id": "sq3NWd5vpK0-",
        "colab_type": "code",
        "colab": {}
      },
      "source": [
        "# Calculate accuracy percentage\n",
        "def accuracy_metric(actual, predicted):\n",
        "\tcorrect = 0\n",
        "\tfor i in range(len(actual)):\n",
        "\t\tif actual[i] == predicted[i]:\n",
        "\t\t\tcorrect += 1\n",
        "\treturn correct / float(len(actual)) * 100.0"
      ],
      "execution_count": 17,
      "outputs": []
    },
    {
      "cell_type": "code",
      "metadata": {
        "id": "ZNrxYK_UfZ05",
        "colab_type": "code",
        "colab": {
          "base_uri": "https://localhost:8080/",
          "height": 52
        },
        "outputId": "bfcf7a37-0079-41dd-f2cd-b2ac23bb7c19"
      },
      "source": [
        "import time\n",
        "start = time.time()\n",
        "preds = random_forest(X_train, y_train, X_test, n_estimators=1, max_features=2, max_depth=10, min_samples_split=2)\n",
        "end = time.time()\n",
        "print('Time taken in mins:',(end-start)/60,'mins')"
      ],
      "execution_count": 24,
      "outputs": [
        {
          "output_type": "stream",
          "text": [
            "OOB estimate: 0.82\n",
            "Time taken in mins: 2.4481837232907613 mins\n"
          ],
          "name": "stdout"
        }
      ]
    },
    {
      "cell_type": "code",
      "metadata": {
        "id": "yztuvcvmQQVm",
        "colab_type": "code",
        "colab": {
          "base_uri": "https://localhost:8080/",
          "height": 34
        },
        "outputId": "b661a2d7-89d0-4020-adce-55ddd85372e7"
      },
      "source": [
        "scores =list()\n",
        "accuracy = accuracy_metric(y_test, preds)\n",
        "scores.append(accuracy)\n",
        "print('scores:',scores)"
      ],
      "execution_count": null,
      "outputs": [
        {
          "output_type": "stream",
          "text": [
            "scores: [30.691530691530694]\n"
          ],
          "name": "stdout"
        }
      ]
    },
    {
      "cell_type": "code",
      "metadata": {
        "id": "6-wj_5a1z8Rz",
        "colab_type": "code",
        "colab": {
          "base_uri": "https://localhost:8080/",
          "height": 52
        },
        "outputId": "9dc3e3e0-3f49-49b5-c582-d51b358d9abb"
      },
      "source": [
        "import time\n",
        "start = time.time()\n",
        "preds = random_forest(X_train, y_train, X_test, n_estimators=2, max_features=6, max_depth=10, min_samples_split=2)\n",
        "end = time.time()\n",
        "print('Time taken in mins:',(end-start)/60,'mins')"
      ],
      "execution_count": 25,
      "outputs": [
        {
          "output_type": "stream",
          "text": [
            "OOB estimate: 0.70\n",
            "Time taken in mins: 12.205070380369822 mins\n"
          ],
          "name": "stdout"
        }
      ]
    },
    {
      "cell_type": "code",
      "metadata": {
        "id": "rqvLzLkSA7SI",
        "colab_type": "code",
        "colab": {
          "base_uri": "https://localhost:8080/",
          "height": 34
        },
        "outputId": "e3680acc-fd7a-43fe-b33e-f9cad7806d27"
      },
      "source": [
        "scores =list()\n",
        "accuracy = accuracy_metric(y_test, preds)\n",
        "scores.append(accuracy)\n",
        "print('scores:',scores)"
      ],
      "execution_count": null,
      "outputs": [
        {
          "output_type": "stream",
          "text": [
            "scores: [30.76923076923077]\n"
          ],
          "name": "stdout"
        }
      ]
    },
    {
      "cell_type": "code",
      "metadata": {
        "id": "7PFJBTBtDzeS",
        "colab_type": "code",
        "colab": {}
      },
      "source": [
        ""
      ],
      "execution_count": null,
      "outputs": []
    }
  ]
}